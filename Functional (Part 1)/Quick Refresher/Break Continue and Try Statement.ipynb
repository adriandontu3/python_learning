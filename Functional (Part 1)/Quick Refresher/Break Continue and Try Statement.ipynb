{
 "cells": [
  {
   "cell_type": "code",
   "execution_count": 2,
   "metadata": {},
   "outputs": [
    {
     "name": "stdout",
     "output_type": "stream",
     "text": [
      "division by 0\n",
      "this always executes\n"
     ]
    }
   ],
   "source": [
    "# BREAK CONTINUE AND TRY STATEMENT INSIDE A LOOP\n",
    "# try...except..finally\n",
    "a = 2\n",
    "b = 0\n",
    "\n",
    "try:\n",
    "    a / b\n",
    "except ZeroDivisionError:\n",
    "    print(\"division by 0\")\n",
    "finally:\n",
    "    print(\"this always executes\")\n",
    "\n",
    "\n"
   ]
  },
  {
   "cell_type": "code",
   "execution_count": 7,
   "metadata": {},
   "outputs": [
    {
     "name": "stdout",
     "output_type": "stream",
     "text": [
      "----\n",
      "1 1 always execute\n",
      "1 1 main loop\n",
      "----\n",
      "2 0 division by 0\n",
      "2 0 always execute\n",
      "----\n",
      "3 -1 always execute\n",
      "3 -1 main loop\n",
      "----\n",
      "4 -2 always execute\n",
      "4 -2 main loop\n",
      "Code executed without a zero division error\n"
     ]
    }
   ],
   "source": [
    "#  REMEMBER that even if we insert continue the loop will execute the finnaly statement\n",
    "#  Adding an else statement that execute the code only if the loop terminated normaly without a break statement\n",
    "#  continue and break statement can be used inside a try method inside a loop\n",
    "#  finnaly is executed with continue and that is a good thing: close a files, a database conection, rollback a transaction \n",
    "a = 0\n",
    "b = 2\n",
    "\n",
    "while a < 4:\n",
    "    print('----')\n",
    "    a += 1\n",
    "    b -= 1\n",
    "    \n",
    "    try:\n",
    "        a / b\n",
    "    except:\n",
    "        print(f\"{a} {b} division by 0\")\n",
    "        continue\n",
    "    finally:\n",
    "        print(f\"{a} {b} always execute\")\n",
    "    \n",
    "    print(f\"{a} {b} main loop\")\n",
    "else:\n",
    "    print(\"Code executed without a zero division error\")"
   ]
  },
  {
   "cell_type": "code",
   "execution_count": 10,
   "metadata": {},
   "outputs": [
    {
     "name": "stdout",
     "output_type": "stream",
     "text": [
      "----\n",
      "1 9 always execute\n",
      "1 9 main loop\n",
      "----\n",
      "2 8 always execute\n",
      "2 8 main loop\n",
      "----\n",
      "3 7 always execute\n",
      "3 7 main loop\n",
      "----\n",
      "4 6 always execute\n",
      "4 6 main loop\n",
      "Code executed without a zero division error\n"
     ]
    }
   ],
   "source": [
    "#  using the break statement\n",
    "a = 0\n",
    "b = 10\n",
    "\n",
    "while a < 4:\n",
    "    print('----')\n",
    "    a += 1\n",
    "    b -= 1\n",
    "    \n",
    "    try:\n",
    "        a / b\n",
    "    except:\n",
    "        print(f\"{a} {b} division by 0\")\n",
    "        break\n",
    "    finally:\n",
    "        print(f\"{a} {b} always execute\")\n",
    "    \n",
    "    print(f\"{a} {b} main loop\")\n",
    "else:\n",
    "    print(\"Code executed without a zero division error\")"
   ]
  },
  {
   "cell_type": "code",
   "execution_count": 15,
   "metadata": {},
   "outputs": [
    {
     "name": "stdout",
     "output_type": "stream",
     "text": [
      "Who are you?\n",
      "Madalina\n",
      "Hello Madalina what is the password:\n",
      "dsadas\n",
      "Who are you?\n",
      "Adrian\n",
      "Hello Adrian what is the password:\n",
      "dasdasofef\n",
      "Who are you?\n",
      "Madalina\n",
      "Hello Madalina what is the password:\n",
      "wonderland\n",
      "Access grated Madalina, you are in!\n"
     ]
    }
   ],
   "source": [
    "while True:\n",
    "    print(\"Who are you?\")\n",
    "    name = input()\n",
    "    if name != \"Adrian\" and not \"Madalina\":\n",
    "        continue\n",
    "    print(f\"Hello {name} what is the password:\")\n",
    "    password = input()\n",
    "    if password == \"wonderland\":\n",
    "        break\n",
    "print(f\"Access grated {name}, you are in!\")"
   ]
  },
  {
   "cell_type": "code",
   "execution_count": null,
   "metadata": {},
   "outputs": [],
   "source": []
  }
 ],
 "metadata": {
  "kernelspec": {
   "display_name": "Python 3",
   "language": "python",
   "name": "python3"
  },
  "language_info": {
   "codemirror_mode": {
    "name": "ipython",
    "version": 3
   },
   "file_extension": ".py",
   "mimetype": "text/x-python",
   "name": "python",
   "nbconvert_exporter": "python",
   "pygments_lexer": "ipython3",
   "version": "3.8.3"
  }
 },
 "nbformat": 4,
 "nbformat_minor": 4
}
