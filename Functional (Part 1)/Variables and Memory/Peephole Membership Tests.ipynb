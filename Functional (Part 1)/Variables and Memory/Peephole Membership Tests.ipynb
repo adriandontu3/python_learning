{
 "cells": [
  {
   "cell_type": "code",
   "execution_count": 3,
   "metadata": {},
   "outputs": [],
   "source": [
    "def my_func():\n",
    "    a = 24 * 60\n",
    "    b = (1, 2) * 5\n",
    "    c = 'abc' * 3\n",
    "    d = 'ab' * 11\n",
    "    c = 'the quick brown fox' * 5\n",
    "    f = ['a', 'b'] * 3\n",
    "    "
   ]
  },
  {
   "cell_type": "code",
   "execution_count": 4,
   "metadata": {},
   "outputs": [
    {
     "data": {
      "text/plain": [
       "(None,\n",
       " 1440,\n",
       " (1, 2, 1, 2, 1, 2, 1, 2, 1, 2),\n",
       " 'abcabcabc',\n",
       " 'ababababababababababab',\n",
       " 'the quick brown foxthe quick brown foxthe quick brown foxthe quick brown foxthe quick brown fox',\n",
       " 'a',\n",
       " 'b',\n",
       " 3)"
      ]
     },
     "execution_count": 4,
     "metadata": {},
     "output_type": "execute_result"
    }
   ],
   "source": [
    "my_func.__code__.co_consts"
   ]
  },
  {
   "cell_type": "code",
   "execution_count": 5,
   "metadata": {},
   "outputs": [],
   "source": [
    "def my_func(e):\n",
    "    if e in [1, 2, 3]:\n",
    "        pass"
   ]
  },
  {
   "cell_type": "code",
   "execution_count": 6,
   "metadata": {},
   "outputs": [
    {
     "data": {
      "text/plain": [
       "(None, (1, 2, 3))"
      ]
     },
     "execution_count": 6,
     "metadata": {},
     "output_type": "execute_result"
    }
   ],
   "source": [
    "my_func.__code__.co_consts\n"
   ]
  },
  {
   "cell_type": "code",
   "execution_count": 7,
   "metadata": {},
   "outputs": [
    {
     "data": {
      "text/plain": [
       "(None, frozenset({1, 2, 3}))"
      ]
     },
     "execution_count": 7,
     "metadata": {},
     "output_type": "execute_result"
    }
   ],
   "source": [
    "def my_func(e):\n",
    "    if e in {1, 2, 3}:\n",
    "        pass\n",
    "\n",
    "    \n",
    "my_func.__code__.co_consts"
   ]
  },
  {
   "cell_type": "code",
   "execution_count": 8,
   "metadata": {},
   "outputs": [],
   "source": [
    "import string\n",
    "import time\n"
   ]
  },
  {
   "cell_type": "code",
   "execution_count": 9,
   "metadata": {},
   "outputs": [
    {
     "data": {
      "text/plain": [
       "'abcdefghijklmnopqrstuvwxyzABCDEFGHIJKLMNOPQRSTUVWXYZ'"
      ]
     },
     "execution_count": 9,
     "metadata": {},
     "output_type": "execute_result"
    }
   ],
   "source": [
    "string.ascii_letters"
   ]
  },
  {
   "cell_type": "code",
   "execution_count": 10,
   "metadata": {},
   "outputs": [],
   "source": [
    "char_list = list(string.ascii_letters)\n",
    "char_tuple = tuple(string.ascii_letters)\n"
   ]
  },
  {
   "cell_type": "code",
   "execution_count": 12,
   "metadata": {},
   "outputs": [],
   "source": [
    "char_set = set(string.ascii_letters)"
   ]
  },
  {
   "cell_type": "code",
   "execution_count": 16,
   "metadata": {},
   "outputs": [
    {
     "name": "stdout",
     "output_type": "stream",
     "text": [
      "['a', 'b', 'c', 'd', 'e', 'f', 'g', 'h', 'i', 'j', 'k', 'l', 'm', 'n', 'o', 'p', 'q', 'r', 's', 't', 'u', 'v', 'w', 'x', 'y', 'z', 'A', 'B', 'C', 'D', 'E', 'F', 'G', 'H', 'I', 'J', 'K', 'L', 'M', 'N', 'O', 'P', 'Q', 'R', 'S', 'T', 'U', 'V', 'W', 'X', 'Y', 'Z']\n"
     ]
    }
   ],
   "source": [
    "print(char_list) #  lists are ordered sequences"
   ]
  },
  {
   "cell_type": "code",
   "execution_count": 17,
   "metadata": {},
   "outputs": [
    {
     "name": "stdout",
     "output_type": "stream",
     "text": [
      "('a', 'b', 'c', 'd', 'e', 'f', 'g', 'h', 'i', 'j', 'k', 'l', 'm', 'n', 'o', 'p', 'q', 'r', 's', 't', 'u', 'v', 'w', 'x', 'y', 'z', 'A', 'B', 'C', 'D', 'E', 'F', 'G', 'H', 'I', 'J', 'K', 'L', 'M', 'N', 'O', 'P', 'Q', 'R', 'S', 'T', 'U', 'V', 'W', 'X', 'Y', 'Z')\n"
     ]
    }
   ],
   "source": [
    "print(char_tuple) #  tuples are ordered sequences"
   ]
  },
  {
   "cell_type": "code",
   "execution_count": 18,
   "metadata": {},
   "outputs": [
    {
     "name": "stdout",
     "output_type": "stream",
     "text": [
      "{'e', 'k', 'N', 'n', 'E', 'u', 'p', 'O', 'M', 'P', 'Z', 'J', 'I', 'Y', 'C', 'z', 'd', 'D', 'Q', 'H', 'R', 'S', 'q', 'A', 'r', 'a', 'm', 'c', 'y', 'g', 'V', 'W', 'U', 't', 'h', 'L', 'i', 's', 'l', 'j', 'v', 'f', 'x', 'B', 'G', 'w', 'F', 'o', 'K', 'X', 'T', 'b'}\n"
     ]
    }
   ],
   "source": [
    "print(char_set) #  sets are not ordered sequences"
   ]
  },
  {
   "cell_type": "code",
   "execution_count": 19,
   "metadata": {},
   "outputs": [],
   "source": [
    "def membership_test(n, container):\n",
    "    for i in range(n):\n",
    "        if 'z' in container:\n",
    "            pass"
   ]
  },
  {
   "cell_type": "code",
   "execution_count": 21,
   "metadata": {},
   "outputs": [
    {
     "name": "stdout",
     "output_type": "stream",
     "text": [
      "list 11.074064900000394\n"
     ]
    }
   ],
   "source": [
    "start = time.perf_counter()\n",
    "membership_test(10000000, char_list)\n",
    "end = time.perf_counter()\n",
    "print('list', end-start)"
   ]
  },
  {
   "cell_type": "code",
   "execution_count": 22,
   "metadata": {},
   "outputs": [
    {
     "name": "stdout",
     "output_type": "stream",
     "text": [
      "list 11.828290899999956\n"
     ]
    }
   ],
   "source": [
    "start = time.perf_counter()\n",
    "membership_test(10000000, char_tuple)\n",
    "end = time.perf_counter()\n",
    "print('list', end-start)"
   ]
  },
  {
   "cell_type": "code",
   "execution_count": 23,
   "metadata": {},
   "outputs": [
    {
     "name": "stdout",
     "output_type": "stream",
     "text": [
      "list 1.683089000000109\n"
     ]
    }
   ],
   "source": [
    "start = time.perf_counter()\n",
    "membership_test(10000000, char_set)\n",
    "end = time.perf_counter()\n",
    "print('list', end-start)"
   ]
  },
  {
   "cell_type": "code",
   "execution_count": null,
   "metadata": {},
   "outputs": [],
   "source": [
    "# whenever you can preffer using set membership"
   ]
  }
 ],
 "metadata": {
  "kernelspec": {
   "display_name": "Python 3",
   "language": "python",
   "name": "python3"
  },
  "language_info": {
   "codemirror_mode": {
    "name": "ipython",
    "version": 3
   },
   "file_extension": ".py",
   "mimetype": "text/x-python",
   "name": "python",
   "nbconvert_exporter": "python",
   "pygments_lexer": "ipython3",
   "version": "3.8.3"
  }
 },
 "nbformat": 4,
 "nbformat_minor": 4
}
