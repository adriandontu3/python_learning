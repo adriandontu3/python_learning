{
 "cells": [
  {
   "cell_type": "code",
   "execution_count": 1,
   "metadata": {},
   "outputs": [],
   "source": [
    "#  create a method that modify it's argument, imutable objects\n",
    "def process(s):\n",
    "    print(f\"Initial: s# = {id(s)}\")\n",
    "    s += 'world'\n",
    "    print(f\"Final: s# = {id(s)}\")\n",
    "    "
   ]
  },
  {
   "cell_type": "code",
   "execution_count": 3,
   "metadata": {},
   "outputs": [
    {
     "name": "stdout",
     "output_type": "stream",
     "text": [
      "my_var # = 1662524515312\n"
     ]
    }
   ],
   "source": [
    "my_var = 'hello'\n",
    "print(f\"my_var # = {id(my_var)}\")"
   ]
  },
  {
   "cell_type": "code",
   "execution_count": 4,
   "metadata": {},
   "outputs": [
    {
     "name": "stdout",
     "output_type": "stream",
     "text": [
      "Initial: s# = 1662524515312\n",
      "Final: s# = 1662524518128\n"
     ]
    }
   ],
   "source": [
    "process(my_var)"
   ]
  },
  {
   "cell_type": "code",
   "execution_count": 5,
   "metadata": {},
   "outputs": [
    {
     "data": {
      "text/plain": [
       "'hello'"
      ]
     },
     "execution_count": 5,
     "metadata": {},
     "output_type": "execute_result"
    }
   ],
   "source": [
    " my_var\n",
    "    "
   ]
  },
  {
   "cell_type": "code",
   "execution_count": 18,
   "metadata": {},
   "outputs": [
    {
     "name": "stdout",
     "output_type": "stream",
     "text": [
      "my_list # = 1662523486976\n"
     ]
    }
   ],
   "source": [
    "#  an example where we have a mutable object\n",
    "def modify_list(lst):\n",
    "    print(f\"Initial: lst# = {id(lst)}\")\n",
    "    #  lst[0] = [3]\n",
    "    lst.append(100)\n",
    "    print(f\"Final: lst# = {id(lst)}\")\n",
    "    \n",
    "my_list = [1, 2, 3]\n",
    "print(f\"my_list # = {id(my_list)}\")"
   ]
  },
  {
   "cell_type": "code",
   "execution_count": 19,
   "metadata": {},
   "outputs": [
    {
     "name": "stdout",
     "output_type": "stream",
     "text": [
      "Initial: lst# = 1662523486976\n",
      "Final: lst# = 1662523486976\n"
     ]
    }
   ],
   "source": [
    "modify_list(my_list)"
   ]
  },
  {
   "cell_type": "code",
   "execution_count": 20,
   "metadata": {},
   "outputs": [
    {
     "data": {
      "text/plain": [
       "[1, 2, 3, 100]"
      ]
     },
     "execution_count": 20,
     "metadata": {},
     "output_type": "execute_result"
    }
   ],
   "source": [
    "my_list"
   ]
  },
  {
   "cell_type": "code",
   "execution_count": 34,
   "metadata": {},
   "outputs": [
    {
     "name": "stdout",
     "output_type": "stream",
     "text": [
      "my_tuple # = 1662523422400\n"
     ]
    }
   ],
   "source": [
    "# tuples are imutable but in our case we have a list which is mutable\n",
    "def modify_tuple(tpl):\n",
    "    print(f\"Initial: tpl# = {id(tpl)}\")\n",
    "    tpl[0].append(4)\n",
    "    print(f\"Final: tpl# = {id(tpl)}\")\n",
    "    \n",
    "my_tuple = ([1, 2, 3], 'a')\n",
    "print(f\"my_tuple # = {id(my_tuple)}\")"
   ]
  },
  {
   "cell_type": "code",
   "execution_count": 35,
   "metadata": {},
   "outputs": [
    {
     "name": "stdout",
     "output_type": "stream",
     "text": [
      "Initial: tpl# = 1662523422400\n",
      "Final: tpl# = 1662523422400\n"
     ]
    }
   ],
   "source": [
    "modify_tuple(my_tuple)"
   ]
  },
  {
   "cell_type": "code",
   "execution_count": 36,
   "metadata": {},
   "outputs": [
    {
     "data": {
      "text/plain": [
       "([1, 2, 3, 4], 'a')"
      ]
     },
     "execution_count": 36,
     "metadata": {},
     "output_type": "execute_result"
    }
   ],
   "source": [
    "my_tuple"
   ]
  },
  {
   "cell_type": "code",
   "execution_count": null,
   "metadata": {},
   "outputs": [],
   "source": []
  }
 ],
 "metadata": {
  "kernelspec": {
   "display_name": "Python 3",
   "language": "python",
   "name": "python3"
  },
  "language_info": {
   "codemirror_mode": {
    "name": "ipython",
    "version": 3
   },
   "file_extension": ".py",
   "mimetype": "text/x-python",
   "name": "python",
   "nbconvert_exporter": "python",
   "pygments_lexer": "ipython3",
   "version": "3.8.3"
  }
 },
 "nbformat": 4,
 "nbformat_minor": 4
}
