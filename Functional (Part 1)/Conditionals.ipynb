{
 "cells": [
  {
   "cell_type": "code",
   "execution_count": 4,
   "metadata": {},
   "outputs": [
    {
     "name": "stdout",
     "output_type": "stream",
     "text": [
      "a is greater than 5\n"
     ]
    }
   ],
   "source": [
    "#  Conditionals\n",
    "\n",
    "a = 5\n",
    "\n",
    "if a < 5:\n",
    "    print(\"a is less than 5\")\n",
    "else:\n",
    "    print(\"a is greater than 5\")\n",
    "        "
   ]
  },
  {
   "cell_type": "code",
   "execution_count": 5,
   "metadata": {},
   "outputs": [
    {
     "data": {
      "text/plain": [
       "False"
      ]
     },
     "execution_count": 5,
     "metadata": {},
     "output_type": "execute_result"
    }
   ],
   "source": [
    "a < 5"
   ]
  },
  {
   "cell_type": "code",
   "execution_count": 6,
   "metadata": {},
   "outputs": [
    {
     "data": {
      "text/plain": [
       "True"
      ]
     },
     "execution_count": 6,
     "metadata": {},
     "output_type": "execute_result"
    }
   ],
   "source": [
    "a == 5"
   ]
  },
  {
   "cell_type": "code",
   "execution_count": 13,
   "metadata": {},
   "outputs": [
    {
     "name": "stdout",
     "output_type": "stream",
     "text": [
      "10 is >= 10\n"
     ]
    }
   ],
   "source": [
    "a = 10\n",
    "\n",
    "if a < 5:\n",
    "    print(f\"{a} is less than 5\")\n",
    "else:\n",
    "    if a < 10:\n",
    "        print(f\"{a} is < 10\")\n",
    "    else:\n",
    "        print(f\"{a} is >= 10\")\n",
    "        \n"
   ]
  },
  {
   "cell_type": "code",
   "execution_count": 29,
   "metadata": {},
   "outputs": [
    {
     "name": "stdout",
     "output_type": "stream",
     "text": [
      "6 is greater than 5\n"
     ]
    }
   ],
   "source": [
    "# elif is the same as switch in java or any programming language. \n",
    "a = 6\n",
    "\n",
    "if a < 5:\n",
    "    print(f\"{a} is less than 5\")\n",
    "elif a > 5:\n",
    "    print(f\"{a} is greater than 5\")\n",
    "else:\n",
    "    a = 5\n",
    "    print(f\"{a} is equal to 5\")"
   ]
  },
  {
   "cell_type": "code",
   "execution_count": 32,
   "metadata": {},
   "outputs": [
    {
     "name": "stdout",
     "output_type": "stream",
     "text": [
      "a is > 20\n"
     ]
    }
   ],
   "source": [
    "# another example of branching\n",
    "\n",
    "a = 20\n",
    "\n",
    "if a < 5:\n",
    "    print(\"a is < that 5\")\n",
    "elif a < 10:\n",
    "    print(\"a is < than 10\")\n",
    "elif a < 15:\n",
    "    print(\"a is less that 15\")\n",
    "elif a < 20:\n",
    "    print(\"a is less than 20\")\n",
    "else:\n",
    "    print(\"a is > 20\")"
   ]
  },
  {
   "cell_type": "code",
   "execution_count": 33,
   "metadata": {},
   "outputs": [
    {
     "name": "stdout",
     "output_type": "stream",
     "text": [
      "a is > 5\n"
     ]
    }
   ],
   "source": [
    "#  python has something called conditional expression or ternary operator\n",
    "#  X if (condition is true) else Y\n",
    "\n",
    "a = 25\n",
    "\n",
    "if a < 5:\n",
    "    b = \"a is < 5\"\n",
    "else:\n",
    "    b = \"a is > 5\"\n",
    "\n",
    "print(b)"
   ]
  },
  {
   "cell_type": "code",
   "execution_count": 34,
   "metadata": {},
   "outputs": [
    {
     "name": "stdout",
     "output_type": "stream",
     "text": [
      "a > 5\n"
     ]
    }
   ],
   "source": [
    "# lets use the ternary operator\n",
    "b = 'a < 5' if a < 5 else 'a > 5'\n",
    "print(b)"
   ]
  },
  {
   "cell_type": "code",
   "execution_count": 35,
   "metadata": {},
   "outputs": [
    {
     "name": "stdout",
     "output_type": "stream",
     "text": [
      "true\n"
     ]
    }
   ],
   "source": [
    "c = 'true' if True else 'false'\n",
    "print(c)"
   ]
  },
  {
   "cell_type": "code",
   "execution_count": 37,
   "metadata": {},
   "outputs": [
    {
     "name": "stdout",
     "output_type": "stream",
     "text": [
      "false\n"
     ]
    }
   ],
   "source": [
    "d = 'true' if False else 'false'\n",
    "print(d)"
   ]
  },
  {
   "cell_type": "code",
   "execution_count": null,
   "metadata": {},
   "outputs": [],
   "source": []
  }
 ],
 "metadata": {
  "kernelspec": {
   "display_name": "Python 3",
   "language": "python",
   "name": "python3"
  },
  "language_info": {
   "codemirror_mode": {
    "name": "ipython",
    "version": 3
   },
   "file_extension": ".py",
   "mimetype": "text/x-python",
   "name": "python",
   "nbconvert_exporter": "python",
   "pygments_lexer": "ipython3",
   "version": "3.8.3"
  }
 },
 "nbformat": 4,
 "nbformat_minor": 4
}
