{
 "cells": [
  {
   "cell_type": "code",
   "execution_count": 1,
   "metadata": {},
   "outputs": [],
   "source": [
    "# pick a random element from a list"
   ]
  },
  {
   "cell_type": "code",
   "execution_count": 2,
   "metadata": {},
   "outputs": [],
   "source": [
    "import random"
   ]
  },
  {
   "cell_type": "code",
   "execution_count": 3,
   "metadata": {},
   "outputs": [
    {
     "name": "stdout",
     "output_type": "stream",
     "text": [
      "[22, 43, 5, 5, 7, 5]\n"
     ]
    }
   ],
   "source": [
    "l = list(range(50))\n",
    "randoms = []\n",
    "\n",
    "for _ in range(6):\n",
    "    randoms.append(l[random.randrange(len(l))])\n",
    "print(randoms)"
   ]
  },
  {
   "cell_type": "code",
   "execution_count": 4,
   "metadata": {},
   "outputs": [
    {
     "data": {
      "text/plain": [
       "22"
      ]
     },
     "execution_count": 4,
     "metadata": {},
     "output_type": "execute_result"
    }
   ],
   "source": [
    "random.choice(l)"
   ]
  },
  {
   "cell_type": "code",
   "execution_count": 5,
   "metadata": {},
   "outputs": [
    {
     "name": "stdout",
     "output_type": "stream",
     "text": [
      "[44, 39, 37, 0, 49, 5]\n"
     ]
    }
   ],
   "source": [
    "randoms = []\n",
    "\n",
    "for _ in range(6):\n",
    "    randoms.append(random.choice(l))\n",
    "print(randoms)"
   ]
  },
  {
   "cell_type": "code",
   "execution_count": 6,
   "metadata": {},
   "outputs": [],
   "source": [
    "randoms = set(random.choice(l) for _ in range(6))"
   ]
  },
  {
   "cell_type": "code",
   "execution_count": 7,
   "metadata": {},
   "outputs": [
    {
     "name": "stdout",
     "output_type": "stream",
     "text": [
      "{33, 4, 6, 10, 21, 26}\n"
     ]
    }
   ],
   "source": [
    "print(randoms)"
   ]
  },
  {
   "cell_type": "code",
   "execution_count": 8,
   "metadata": {},
   "outputs": [
    {
     "name": "stdout",
     "output_type": "stream",
     "text": [
      "[7, 4, 29, 8, 5, 32]\n"
     ]
    }
   ],
   "source": [
    "randoms = random.choices(l, k=6)\n",
    "print(randoms)"
   ]
  },
  {
   "cell_type": "code",
   "execution_count": 9,
   "metadata": {},
   "outputs": [],
   "source": [
    "l = ['MacBook Pro 16-Inch i7', 'MacBook Pro 13-Inch M1', 'MacBook Pro 13-Inch i5', 'MacBook Pro 16-Inch i9']"
   ]
  },
  {
   "cell_type": "code",
   "execution_count": 10,
   "metadata": {},
   "outputs": [
    {
     "name": "stdout",
     "output_type": "stream",
     "text": [
      "['MacBook Pro 13-Inch M1', 'MacBook Pro 16-Inch i9', 'MacBook Pro 13-Inch i5']\n",
      "['MacBook Pro 16-Inch i9', 'MacBook Pro 16-Inch i7', 'MacBook Pro 16-Inch i7']\n",
      "['MacBook Pro 16-Inch i7', 'MacBook Pro 16-Inch i7', 'MacBook Pro 13-Inch i5']\n",
      "['MacBook Pro 16-Inch i9', 'MacBook Pro 16-Inch i7', 'MacBook Pro 16-Inch i9']\n",
      "['MacBook Pro 13-Inch M1', 'MacBook Pro 16-Inch i9', 'MacBook Pro 16-Inch i7']\n",
      "['MacBook Pro 16-Inch i9', 'MacBook Pro 13-Inch i5', 'MacBook Pro 16-Inch i7']\n"
     ]
    }
   ],
   "source": [
    "for _ in range(6):\n",
    "    print(random.choices(l, k=3))"
   ]
  },
  {
   "cell_type": "code",
   "execution_count": 11,
   "metadata": {},
   "outputs": [],
   "source": [
    "weights = [10, 1, 2, 1]"
   ]
  },
  {
   "cell_type": "code",
   "execution_count": 28,
   "metadata": {},
   "outputs": [
    {
     "name": "stdout",
     "output_type": "stream",
     "text": [
      "['MacBook Pro 16-Inch i7', 'MacBook Pro 16-Inch i7', 'MacBook Pro 16-Inch i7']\n",
      "['MacBook Pro 16-Inch i7', 'MacBook Pro 16-Inch i7', 'MacBook Pro 16-Inch i7']\n",
      "['MacBook Pro 13-Inch i5', 'MacBook Pro 13-Inch M1', 'MacBook Pro 16-Inch i7']\n",
      "['MacBook Pro 16-Inch i7', 'MacBook Pro 16-Inch i7', 'MacBook Pro 16-Inch i7']\n",
      "['MacBook Pro 16-Inch i7', 'MacBook Pro 16-Inch i7', 'MacBook Pro 13-Inch M1']\n",
      "['MacBook Pro 16-Inch i7', 'MacBook Pro 16-Inch i7', 'MacBook Pro 13-Inch M1']\n"
     ]
    }
   ],
   "source": [
    "for _ in range(6):\n",
    "    print(random.choices(l, k=3, weights=weights))"
   ]
  },
  {
   "cell_type": "code",
   "execution_count": 34,
   "metadata": {},
   "outputs": [],
   "source": [
    "from collections import namedtuple"
   ]
  },
  {
   "cell_type": "code",
   "execution_count": 40,
   "metadata": {},
   "outputs": [],
   "source": [
    "Freq = namedtuple('Freq', 'count freq')\n",
    "def freq_count(lst):\n",
    "    total = len(lst)\n",
    "    return {k: Freq(lst.count(k), 100 * lst.count(k) / total) for k in set(lst)}"
   ]
  },
  {
   "cell_type": "code",
   "execution_count": 41,
   "metadata": {},
   "outputs": [
    {
     "data": {
      "text/plain": [
       "{'MacBook Pro 13-Inch M1': Freq(count=1, freq=33.333333333333336),\n",
       " 'MacBook Pro 16-Inch i7': Freq(count=2, freq=66.66666666666667)}"
      ]
     },
     "execution_count": 41,
     "metadata": {},
     "output_type": "execute_result"
    }
   ],
   "source": [
    "freq_count(random.choices(l, k=3))"
   ]
  },
  {
   "cell_type": "code",
   "execution_count": 42,
   "metadata": {},
   "outputs": [],
   "source": [
    "weights = [20, 2, 1, 2]"
   ]
  },
  {
   "cell_type": "code",
   "execution_count": 43,
   "metadata": {},
   "outputs": [
    {
     "data": {
      "text/plain": [
       "{'MacBook Pro 13-Inch M1': Freq(count=798694, freq=7.98694),\n",
       " 'MacBook Pro 16-Inch i9': Freq(count=800580, freq=8.0058),\n",
       " 'MacBook Pro 16-Inch i7': Freq(count=8001167, freq=80.01167),\n",
       " 'MacBook Pro 13-Inch i5': Freq(count=399559, freq=3.99559)}"
      ]
     },
     "execution_count": 43,
     "metadata": {},
     "output_type": "execute_result"
    }
   ],
   "source": [
    "freq_count(random.choices(l, k=10_000_000, weights=weights))"
   ]
  },
  {
   "cell_type": "code",
   "execution_count": 44,
   "metadata": {},
   "outputs": [
    {
     "data": {
      "text/plain": [
       "['MacBook Pro 13-Inch i5', 'MacBook Pro 16-Inch i7', 'MacBook Pro 16-Inch i9']"
      ]
     },
     "execution_count": 44,
     "metadata": {},
     "output_type": "execute_result"
    }
   ],
   "source": [
    "random.sample(l, k=3)"
   ]
  },
  {
   "cell_type": "code",
   "execution_count": null,
   "metadata": {},
   "outputs": [],
   "source": []
  },
  {
   "cell_type": "code",
   "execution_count": null,
   "metadata": {},
   "outputs": [],
   "source": []
  }
 ],
 "metadata": {
  "kernelspec": {
   "display_name": "Python 3",
   "language": "python",
   "name": "python3"
  },
  "language_info": {
   "codemirror_mode": {
    "name": "ipython",
    "version": 3
   },
   "file_extension": ".py",
   "mimetype": "text/x-python",
   "name": "python",
   "nbconvert_exporter": "python",
   "pygments_lexer": "ipython3",
   "version": "3.8.3"
  }
 },
 "nbformat": 4,
 "nbformat_minor": 4
}
