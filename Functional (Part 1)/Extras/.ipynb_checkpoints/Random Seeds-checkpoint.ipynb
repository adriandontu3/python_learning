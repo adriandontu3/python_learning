{
 "cells": [
  {
   "cell_type": "code",
   "execution_count": 3,
   "metadata": {},
   "outputs": [],
   "source": [
    "import random"
   ]
  },
  {
   "cell_type": "code",
   "execution_count": 4,
   "metadata": {},
   "outputs": [
    {
     "name": "stdout",
     "output_type": "stream",
     "text": [
      "16 0.48335844512652093\n",
      "17 0.5796859951167506\n",
      "23 0.2967286393628207\n",
      "19 0.15652696209916972\n",
      "20 0.4622198579137339\n",
      "4 0.3212841552235781\n"
     ]
    }
   ],
   "source": [
    "for _ in range(6):\n",
    "    print(random.randint(1, 49), random.random())"
   ]
  },
  {
   "cell_type": "code",
   "execution_count": 5,
   "metadata": {},
   "outputs": [
    {
     "name": "stdout",
     "output_type": "stream",
     "text": [
      "25 0.7579544029403025\n",
      "27 0.04048437818077755\n",
      "33 0.48592769656281265\n",
      "20 0.9677999949201714\n",
      "23 0.5833820394550312\n",
      "14 0.5046868558173903\n"
     ]
    }
   ],
   "source": [
    "random.seed(0)\n",
    "for i in range(6):\n",
    "    print(random.randint(1,49), random.random())"
   ]
  },
  {
   "cell_type": "code",
   "execution_count": 44,
   "metadata": {},
   "outputs": [],
   "source": [
    "def generate_random_stuff(seed=None):\n",
    "    random.seed(seed)\n",
    "    result = []\n",
    "    \n",
    "    for _ in range(6):\n",
    "        result.append(random.randint(1, 49))\n",
    "        \n",
    "    characters = list('abc')\n",
    "    random.shuffle(characters)\n",
    "    result.append(characters)\n",
    "    \n",
    "    for _ in range(6):\n",
    "        result.append(random.gauss(1, 49))\n",
    "    return result"
   ]
  },
  {
   "cell_type": "code",
   "execution_count": 45,
   "metadata": {},
   "outputs": [
    {
     "data": {
      "text/plain": [
       "[31,\n",
       " 4,\n",
       " 27,\n",
       " 15,\n",
       " 15,\n",
       " 18,\n",
       " ['c', 'a', 'b'],\n",
       " -35.09169972948648,\n",
       " -39.68854962312677,\n",
       " 97.18999919537379,\n",
       " -58.33805992493782,\n",
       " -63.440131197382854,\n",
       " 6.9240275750739855]"
      ]
     },
     "execution_count": 45,
     "metadata": {},
     "output_type": "execute_result"
    }
   ],
   "source": [
    "generate_random_stuff()"
   ]
  },
  {
   "cell_type": "code",
   "execution_count": 194,
   "metadata": {},
   "outputs": [],
   "source": [
    "def freq_analysis(lst):\n",
    "    return {k: lst.count(k) for k in set(lst)}"
   ]
  },
  {
   "cell_type": "code",
   "execution_count": 201,
   "metadata": {},
   "outputs": [],
   "source": [
    "lst = set(random.randint(1, 49) for _ in range(7))"
   ]
  },
  {
   "cell_type": "code",
   "execution_count": 202,
   "metadata": {},
   "outputs": [
    {
     "name": "stdout",
     "output_type": "stream",
     "text": [
      "{32, 6, 43, 13, 45, 14, 23}\n"
     ]
    }
   ],
   "source": [
    "print(lst)"
   ]
  },
  {
   "cell_type": "code",
   "execution_count": null,
   "metadata": {},
   "outputs": [],
   "source": []
  },
  {
   "cell_type": "code",
   "execution_count": null,
   "metadata": {},
   "outputs": [],
   "source": []
  },
  {
   "cell_type": "code",
   "execution_count": null,
   "metadata": {},
   "outputs": [],
   "source": []
  },
  {
   "cell_type": "code",
   "execution_count": null,
   "metadata": {},
   "outputs": [],
   "source": []
  },
  {
   "cell_type": "code",
   "execution_count": 80,
   "metadata": {},
   "outputs": [],
   "source": [
    "total = sum(d.values())"
   ]
  },
  {
   "cell_type": "code",
   "execution_count": 84,
   "metadata": {},
   "outputs": [
    {
     "data": {
      "text/plain": [
       "{4: 16.666666666666664,\n",
       " 6: 16.666666666666664,\n",
       " 18: 16.666666666666664,\n",
       " 19: 16.666666666666664,\n",
       " 21: 16.666666666666664,\n",
       " 30: 16.666666666666664}"
      ]
     },
     "execution_count": 84,
     "metadata": {},
     "output_type": "execute_result"
    }
   ],
   "source": [
    "{k:v / total * 100 for k, v in d.items()}"
   ]
  },
  {
   "cell_type": "code",
   "execution_count": 82,
   "metadata": {},
   "outputs": [],
   "source": [
    "from collections import Counter"
   ]
  },
  {
   "cell_type": "code",
   "execution_count": 205,
   "metadata": {},
   "outputs": [
    {
     "data": {
      "text/plain": [
       "Counter({39: 1, 16: 1, 15: 1, 12: 1, 30: 1, 31: 1, 43: 1})"
      ]
     },
     "execution_count": 205,
     "metadata": {},
     "output_type": "execute_result"
    }
   ],
   "source": [
    "Counter([random.randint(0, 49) for _ in range(7)])"
   ]
  },
  {
   "cell_type": "code",
   "execution_count": null,
   "metadata": {},
   "outputs": [],
   "source": []
  }
 ],
 "metadata": {
  "kernelspec": {
   "display_name": "Python 3",
   "language": "python",
   "name": "python3"
  },
  "language_info": {
   "codemirror_mode": {
    "name": "ipython",
    "version": 3
   },
   "file_extension": ".py",
   "mimetype": "text/x-python",
   "name": "python",
   "nbconvert_exporter": "python",
   "pygments_lexer": "ipython3",
   "version": "3.8.3"
  }
 },
 "nbformat": 4,
 "nbformat_minor": 4
}
