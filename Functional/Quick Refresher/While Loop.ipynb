{
 "cells": [
  {
   "cell_type": "code",
   "execution_count": 2,
   "metadata": {},
   "outputs": [
    {
     "name": "stdout",
     "output_type": "stream",
     "text": [
      "0\n",
      "1\n",
      "2\n",
      "3\n",
      "4\n"
     ]
    }
   ],
   "source": [
    "# While Loop\n",
    "# Loop will continue as long as the condition is True\n",
    "\n",
    "i = 0\n",
    "\n",
    "while i < 5:\n",
    "    print(i)\n",
    "    i += 1\n",
    "    \n"
   ]
  },
  {
   "cell_type": "code",
   "execution_count": 4,
   "metadata": {},
   "outputs": [
    {
     "name": "stdout",
     "output_type": "stream",
     "text": [
      "5\n",
      "We have a match\n"
     ]
    }
   ],
   "source": [
    "#break is a statements that terminates the loop instantly\n",
    "i = 5\n",
    "\n",
    "while True:\n",
    "    print(i)\n",
    "    i += 1\n",
    "    if i >= 5:\n",
    "        print('We have a match')\n",
    "        break\n",
    "        \n"
   ]
  },
  {
   "cell_type": "code",
   "execution_count": 9,
   "metadata": {},
   "outputs": [
    {
     "name": "stdout",
     "output_type": "stream",
     "text": [
      "Enter your namedasdas\n",
      "Hello, dasdas\n"
     ]
    }
   ],
   "source": [
    "# the expression AND, OR, NOT always evaluate to NOT \n",
    "\n",
    "#  while NOT not in some_list:\n",
    "#    print('something')\n",
    "\n",
    "# while ('AND' not in some_list and\n",
    "#        'OR' not in some_list and\n",
    "#         'NOT' not in some_list:)\n",
    "# whatever\n",
    "\n",
    "min_length = 2\n",
    "name = input(\"Enter your name\")\n",
    "\n",
    "while not(len(name) >= min_length and name.isprintable() and name.isalpha()):\n",
    "    name = input(\"Enter your name\")\n",
    "    \n",
    "    \n",
    "print(f'Hello, {name}')"
   ]
  },
  {
   "cell_type": "code",
   "execution_count": 11,
   "metadata": {},
   "outputs": [
    {
     "name": "stdout",
     "output_type": "stream",
     "text": [
      "Enter your namedsd\n",
      "Hello, dsd\n"
     ]
    }
   ],
   "source": [
    "# the above code is not good because we repeated the name, especialy the input variable, remember DRY?\n",
    "min_length = 2\n",
    "\n",
    "while True:\n",
    "    name = input(\"Enter your name\")\n",
    "    if len(name) >= min_length and name.isprintable() and name.isalpha():\n",
    "        break\n",
    "        \n",
    "print(f'Hello, {name}')"
   ]
  },
  {
   "cell_type": "code",
   "execution_count": 29,
   "metadata": {},
   "outputs": [
    {
     "name": "stdout",
     "output_type": "stream",
     "text": [
      "1\n",
      "3\n",
      "5\n",
      "7\n",
      "9\n"
     ]
    }
   ],
   "source": [
    "# continue statement it doesn't break the loop it just continue the iteration\n",
    "# while ('AND' not in some_list and\n",
    "#        'OR' not in some_list and\n",
    "#         'NOT' not in some_list:)\n",
    "#         'continue' not in_same_list\n",
    "# whatever\n",
    "\n",
    "a = 0\n",
    "\n",
    "while a < 10:\n",
    "    a += 1\n",
    "    if a % 2 == 0:\n",
    "        continue\n",
    "    print(a)"
   ]
  },
  {
   "cell_type": "code",
   "execution_count": 36,
   "metadata": {},
   "outputs": [
    {
     "name": "stdout",
     "output_type": "stream",
     "text": [
      "[1, 2, 3, 4, 10]\n"
     ]
    }
   ],
   "source": [
    "# if we include in a while loop an if else statement keep in mind that you shouldn't have a break nested\n",
    "# this is possible only if the loop didn't encouter a break statement\n",
    "\n",
    "l = [1, 2, 3, 4]\n",
    "val = 10\n",
    "\n",
    "flag = False\n",
    "idx = 0\n",
    "\n",
    "while idx < len(l):\n",
    "\n",
    "    if l[idx] == val:\n",
    "        found = True\n",
    "        break\n",
    "    idx += 1\n",
    "    \n",
    "if not flag:\n",
    "    l.append(val)\n",
    "    \n",
    "print(l)\n",
    "\n"
   ]
  },
  {
   "cell_type": "code",
   "execution_count": 37,
   "metadata": {},
   "outputs": [
    {
     "data": {
      "text/plain": [
       "5"
      ]
     },
     "execution_count": 37,
     "metadata": {},
     "output_type": "execute_result"
    }
   ],
   "source": [
    "len(l)"
   ]
  },
  {
   "cell_type": "code",
   "execution_count": 3,
   "metadata": {},
   "outputs": [
    {
     "name": "stdout",
     "output_type": "stream",
     "text": [
      "[1, 2, 3, 4, 10]\n"
     ]
    }
   ],
   "source": [
    "# the nice part is that we can attach an else statement to an while loop whithout the if statement\n",
    "# test to see what happens if we attach to the l variable a value of 10\n",
    "l = [1, 2, 3, 4]\n",
    "val = 10\n",
    "idx = 0\n",
    "\n",
    "while idx < len(l):\n",
    "    if l[idx] == val:\n",
    "        break\n",
    "    idx += 1\n",
    "else:\n",
    "    l.append(val)\n",
    "    \n",
    "print(l)"
   ]
  },
  {
   "cell_type": "code",
   "execution_count": null,
   "metadata": {},
   "outputs": [],
   "source": []
  },
  {
   "cell_type": "code",
   "execution_count": null,
   "metadata": {},
   "outputs": [],
   "source": [
    "\n"
   ]
  }
 ],
 "metadata": {
  "kernelspec": {
   "display_name": "Python 3",
   "language": "python",
   "name": "python3"
  },
  "language_info": {
   "codemirror_mode": {
    "name": "ipython",
    "version": 3
   },
   "file_extension": ".py",
   "mimetype": "text/x-python",
   "name": "python",
   "nbconvert_exporter": "python",
   "pygments_lexer": "ipython3",
   "version": "3.8.3"
  }
 },
 "nbformat": 4,
 "nbformat_minor": 4
}
