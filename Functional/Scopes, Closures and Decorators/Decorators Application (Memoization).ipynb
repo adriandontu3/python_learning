{
 "cells": [
  {
   "cell_type": "code",
   "execution_count": 1,
   "metadata": {},
   "outputs": [],
   "source": [
    "def fib(n):\n",
    "    print(\"Calculating fib{0}\". format(n))\n",
    "    return 1 if n < 3 else fib(n-1) + fib(n-2)"
   ]
  },
  {
   "cell_type": "code",
   "execution_count": 2,
   "metadata": {},
   "outputs": [
    {
     "name": "stdout",
     "output_type": "stream",
     "text": [
      "Calculating fib10\n",
      "Calculating fib9\n",
      "Calculating fib8\n",
      "Calculating fib7\n",
      "Calculating fib6\n",
      "Calculating fib5\n",
      "Calculating fib4\n",
      "Calculating fib3\n",
      "Calculating fib2\n",
      "Calculating fib1\n",
      "Calculating fib2\n",
      "Calculating fib3\n",
      "Calculating fib2\n",
      "Calculating fib1\n",
      "Calculating fib4\n",
      "Calculating fib3\n",
      "Calculating fib2\n",
      "Calculating fib1\n",
      "Calculating fib2\n",
      "Calculating fib5\n",
      "Calculating fib4\n",
      "Calculating fib3\n",
      "Calculating fib2\n",
      "Calculating fib1\n",
      "Calculating fib2\n",
      "Calculating fib3\n",
      "Calculating fib2\n",
      "Calculating fib1\n",
      "Calculating fib6\n",
      "Calculating fib5\n",
      "Calculating fib4\n",
      "Calculating fib3\n",
      "Calculating fib2\n",
      "Calculating fib1\n",
      "Calculating fib2\n",
      "Calculating fib3\n",
      "Calculating fib2\n",
      "Calculating fib1\n",
      "Calculating fib4\n",
      "Calculating fib3\n",
      "Calculating fib2\n",
      "Calculating fib1\n",
      "Calculating fib2\n",
      "Calculating fib7\n",
      "Calculating fib6\n",
      "Calculating fib5\n",
      "Calculating fib4\n",
      "Calculating fib3\n",
      "Calculating fib2\n",
      "Calculating fib1\n",
      "Calculating fib2\n",
      "Calculating fib3\n",
      "Calculating fib2\n",
      "Calculating fib1\n",
      "Calculating fib4\n",
      "Calculating fib3\n",
      "Calculating fib2\n",
      "Calculating fib1\n",
      "Calculating fib2\n",
      "Calculating fib5\n",
      "Calculating fib4\n",
      "Calculating fib3\n",
      "Calculating fib2\n",
      "Calculating fib1\n",
      "Calculating fib2\n",
      "Calculating fib3\n",
      "Calculating fib2\n",
      "Calculating fib1\n",
      "Calculating fib8\n",
      "Calculating fib7\n",
      "Calculating fib6\n",
      "Calculating fib5\n",
      "Calculating fib4\n",
      "Calculating fib3\n",
      "Calculating fib2\n",
      "Calculating fib1\n",
      "Calculating fib2\n",
      "Calculating fib3\n",
      "Calculating fib2\n",
      "Calculating fib1\n",
      "Calculating fib4\n",
      "Calculating fib3\n",
      "Calculating fib2\n",
      "Calculating fib1\n",
      "Calculating fib2\n",
      "Calculating fib5\n",
      "Calculating fib4\n",
      "Calculating fib3\n",
      "Calculating fib2\n",
      "Calculating fib1\n",
      "Calculating fib2\n",
      "Calculating fib3\n",
      "Calculating fib2\n",
      "Calculating fib1\n",
      "Calculating fib6\n",
      "Calculating fib5\n",
      "Calculating fib4\n",
      "Calculating fib3\n",
      "Calculating fib2\n",
      "Calculating fib1\n",
      "Calculating fib2\n",
      "Calculating fib3\n",
      "Calculating fib2\n",
      "Calculating fib1\n",
      "Calculating fib4\n",
      "Calculating fib3\n",
      "Calculating fib2\n",
      "Calculating fib1\n",
      "Calculating fib2\n"
     ]
    },
    {
     "data": {
      "text/plain": [
       "55"
      ]
     },
     "execution_count": 2,
     "metadata": {},
     "output_type": "execute_result"
    }
   ],
   "source": [
    "fib(10)"
   ]
  },
  {
   "cell_type": "code",
   "execution_count": 3,
   "metadata": {},
   "outputs": [],
   "source": [
    "class Fib:\n",
    "    def __init__(self):\n",
    "        self.cache = {1: 1, 2:1}\n",
    "        \n",
    "    def fib(self, n):\n",
    "        if n not in self.cache:\n",
    "            print('Calculating fib({0})'.format(n))\n",
    "            self.cache[n] = self.fib(n-1) + self.fib(n-2)\n",
    "        return self.cache[n]"
   ]
  },
  {
   "cell_type": "code",
   "execution_count": 4,
   "metadata": {},
   "outputs": [],
   "source": [
    "f = Fib()"
   ]
  },
  {
   "cell_type": "code",
   "execution_count": 5,
   "metadata": {},
   "outputs": [
    {
     "name": "stdout",
     "output_type": "stream",
     "text": [
      "Calculating fib(10)\n",
      "Calculating fib(9)\n",
      "Calculating fib(8)\n",
      "Calculating fib(7)\n",
      "Calculating fib(6)\n",
      "Calculating fib(5)\n",
      "Calculating fib(4)\n",
      "Calculating fib(3)\n"
     ]
    },
    {
     "data": {
      "text/plain": [
       "55"
      ]
     },
     "execution_count": 5,
     "metadata": {},
     "output_type": "execute_result"
    }
   ],
   "source": [
    "f.fib(10)"
   ]
  },
  {
   "cell_type": "code",
   "execution_count": 11,
   "metadata": {},
   "outputs": [],
   "source": [
    "cache = {1: 1, 2:1, 3:2}"
   ]
  },
  {
   "cell_type": "code",
   "execution_count": 12,
   "metadata": {},
   "outputs": [
    {
     "data": {
      "text/plain": [
       "2"
      ]
     },
     "execution_count": 12,
     "metadata": {},
     "output_type": "execute_result"
    }
   ],
   "source": [
    "cache[3]"
   ]
  },
  {
   "cell_type": "code",
   "execution_count": 9,
   "metadata": {},
   "outputs": [],
   "source": [
    "def fib():\n",
    "    cache = {1:1, 2:1}\n",
    "    \n",
    "    def calc_fib(n):\n",
    "        if n not in cache:\n",
    "            print(f\"Calculating {n}\")\n",
    "            cache[n] = calc_fib(n-1) + calc_fib(n-2)\n",
    "        return cache[n]\n",
    "    \n",
    "    return calc_fib"
   ]
  },
  {
   "cell_type": "code",
   "execution_count": 10,
   "metadata": {},
   "outputs": [],
   "source": [
    "f = fib()"
   ]
  },
  {
   "cell_type": "code",
   "execution_count": 11,
   "metadata": {},
   "outputs": [
    {
     "name": "stdout",
     "output_type": "stream",
     "text": [
      "Calculating 10\n",
      "Calculating 9\n",
      "Calculating 8\n",
      "Calculating 7\n",
      "Calculating 6\n",
      "Calculating 5\n",
      "Calculating 4\n",
      "Calculating 3\n"
     ]
    },
    {
     "data": {
      "text/plain": [
       "55"
      ]
     },
     "execution_count": 11,
     "metadata": {},
     "output_type": "execute_result"
    }
   ],
   "source": [
    "f(10)"
   ]
  },
  {
   "cell_type": "code",
   "execution_count": 26,
   "metadata": {},
   "outputs": [],
   "source": [
    "def memoize(fib):\n",
    "    cache = dict()\n",
    "    \n",
    "    def inner(n):\n",
    "        if n not in cache:\n",
    "            cache[n] = fib(n)\n",
    "        return cache[n]\n",
    "    \n",
    "    return inner\n",
    "            "
   ]
  },
  {
   "cell_type": "code",
   "execution_count": 27,
   "metadata": {},
   "outputs": [],
   "source": [
    "@memoize\n",
    "def fib(n):\n",
    "    print(f\"Calculating {n}\")\n",
    "    return 1 if n < 3 else fib(n-1) + fib(n-2)"
   ]
  },
  {
   "cell_type": "code",
   "execution_count": 28,
   "metadata": {},
   "outputs": [
    {
     "name": "stdout",
     "output_type": "stream",
     "text": [
      "Calculating 10\n",
      "Calculating 9\n",
      "Calculating 8\n",
      "Calculating 7\n",
      "Calculating 6\n",
      "Calculating 5\n",
      "Calculating 4\n",
      "Calculating 3\n",
      "Calculating 2\n",
      "Calculating 1\n"
     ]
    },
    {
     "data": {
      "text/plain": [
       "55"
      ]
     },
     "execution_count": 28,
     "metadata": {},
     "output_type": "execute_result"
    }
   ],
   "source": [
    "fib(10)"
   ]
  },
  {
   "cell_type": "code",
   "execution_count": 29,
   "metadata": {},
   "outputs": [
    {
     "data": {
      "text/plain": [
       "55"
      ]
     },
     "execution_count": 29,
     "metadata": {},
     "output_type": "execute_result"
    }
   ],
   "source": [
    "fib(10)"
   ]
  },
  {
   "cell_type": "code",
   "execution_count": 30,
   "metadata": {},
   "outputs": [],
   "source": [
    "from functools import lru_cache"
   ]
  },
  {
   "cell_type": "code",
   "execution_count": 34,
   "metadata": {},
   "outputs": [],
   "source": [
    "@lru_cache()\n",
    "def fib(n):\n",
    "    print(f\"Print fib{n}\")\n",
    "    return 1 if n < 3 else fib(n-1) + fib(n-2)"
   ]
  },
  {
   "cell_type": "code",
   "execution_count": 35,
   "metadata": {},
   "outputs": [
    {
     "name": "stdout",
     "output_type": "stream",
     "text": [
      "Print fib10\n",
      "Print fib9\n",
      "Print fib8\n",
      "Print fib7\n",
      "Print fib6\n",
      "Print fib5\n",
      "Print fib4\n",
      "Print fib3\n",
      "Print fib2\n",
      "Print fib1\n"
     ]
    },
    {
     "data": {
      "text/plain": [
       "55"
      ]
     },
     "execution_count": 35,
     "metadata": {},
     "output_type": "execute_result"
    }
   ],
   "source": [
    "fib(10)"
   ]
  },
  {
   "cell_type": "code",
   "execution_count": 36,
   "metadata": {},
   "outputs": [
    {
     "data": {
      "text/plain": [
       "55"
      ]
     },
     "execution_count": 36,
     "metadata": {},
     "output_type": "execute_result"
    }
   ],
   "source": [
    "fib(10)"
   ]
  },
  {
   "cell_type": "code",
   "execution_count": 37,
   "metadata": {},
   "outputs": [
    {
     "data": {
      "text/plain": [
       "55"
      ]
     },
     "execution_count": 37,
     "metadata": {},
     "output_type": "execute_result"
    }
   ],
   "source": [
    "fib(10)"
   ]
  },
  {
   "cell_type": "code",
   "execution_count": 38,
   "metadata": {},
   "outputs": [
    {
     "name": "stdout",
     "output_type": "stream",
     "text": [
      "Print fib11\n"
     ]
    },
    {
     "data": {
      "text/plain": [
       "89"
      ]
     },
     "execution_count": 38,
     "metadata": {},
     "output_type": "execute_result"
    }
   ],
   "source": [
    "fib(11)"
   ]
  },
  {
   "cell_type": "code",
   "execution_count": 39,
   "metadata": {},
   "outputs": [
    {
     "data": {
      "text/plain": [
       "34"
      ]
     },
     "execution_count": 39,
     "metadata": {},
     "output_type": "execute_result"
    }
   ],
   "source": [
    "fib(9)"
   ]
  },
  {
   "cell_type": "code",
   "execution_count": 40,
   "metadata": {},
   "outputs": [],
   "source": [
    "def fib(n):\n",
    "    print(f\"Calculating fib{n}\")\n",
    "    return 1 if n < 3 else fib(n-1) + fib(n-2)"
   ]
  },
  {
   "cell_type": "code",
   "execution_count": null,
   "metadata": {},
   "outputs": [],
   "source": []
  }
 ],
 "metadata": {
  "kernelspec": {
   "display_name": "Python 3",
   "language": "python",
   "name": "python3"
  },
  "language_info": {
   "codemirror_mode": {
    "name": "ipython",
    "version": 3
   },
   "file_extension": ".py",
   "mimetype": "text/x-python",
   "name": "python",
   "nbconvert_exporter": "python",
   "pygments_lexer": "ipython3",
   "version": "3.8.3"
  }
 },
 "nbformat": 4,
 "nbformat_minor": 4
}
